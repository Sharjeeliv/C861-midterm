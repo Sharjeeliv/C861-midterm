{
 "cells": [
  {
   "cell_type": "code",
   "execution_count": 66,
   "id": "24dc5c64",
   "metadata": {},
   "outputs": [],
   "source": [
    "import numpy as np\n",
    "import pandas as pd\n",
    "import matplotlib.pyplot as plt\n",
    "\n",
    "\n",
    "import torch\n",
    "from torch import optim\n",
    "from torch import nn\n",
    "from torch.utils.data import DataLoader\n",
    "from tqdm import tqdm\n",
    "\n",
    "# !pip install torchvision\n",
    "import torchvision\n",
    "\n",
    "import torch.nn.functional as F\n",
    "import torchvision.datasets as datasets\n",
    "import torchvision.transforms as transforms\n",
    "\n",
    "# !pip install torchmetrics\n",
    "import torchmetrics\n",
    "\n",
    "random_seed = 42\n",
    "torch.manual_seed(random_seed)\n",
    "np.random.seed(random_seed)"
   ]
  },
  {
   "cell_type": "code",
   "execution_count": 67,
   "id": "c9ff9cce",
   "metadata": {},
   "outputs": [],
   "source": [
    "batch_size = 4096\n",
    "\n",
    "train_dataset = datasets.MNIST(root=\"dataset/\", download=True, train=True, transform=transforms.ToTensor())\n",
    "\n",
    "train_loader = DataLoader(dataset=train_dataset, batch_size=batch_size, shuffle=True)\n",
    "\n",
    "test_dataset = datasets.MNIST(root=\"dataset/\", download=True, train=False, transform=transforms.ToTensor())\n",
    "\n",
    "test_loader = DataLoader(dataset=test_dataset, batch_size=batch_size, shuffle=True)"
   ]
  },
  {
   "cell_type": "code",
   "execution_count": 68,
   "id": "f6cf84e1",
   "metadata": {},
   "outputs": [
    {
     "data": {
      "image/png": "[encoded data removed]",
      "text/plain": [
       "<Figure size 640x480 with 1 Axes>"
      ]
     },
     "metadata": {},
     "output_type": "display_data"
    }
   ],
   "source": [
    "def imshow(img):\n",
    "   npimg = img.numpy()\n",
    "   plt.imshow(np.transpose(npimg, (1, 2, 0)))\n",
    "   plt.show()\n",
    "\n",
    "# get some random training images\n",
    "dataiter = iter(train_loader)\n",
    "images, labels = next(dataiter)\n",
    "labels\n",
    "# show images\n",
    "imshow(torchvision.utils.make_grid(images))\n"
   ]
  },
  {
   "cell_type": "code",
   "execution_count": 69,
   "id": "e4cd7481",
   "metadata": {},
   "outputs": [],
   "source": [
    "class CNN(nn.Module):\n",
    "   def __init__(self, in_channels, num_classes):\n",
    "\n",
    "       \"\"\"\n",
    "       Building blocks of convolutional neural network.\n",
    "\n",
    "       Parameters:\n",
    "           * in_channels: Number of channels in the input image (for grayscale images, 1)\n",
    "           * num_classes: Number of classes to predict. In our problem, 10 (i.e digits from  0 to 9).\n",
    "       \"\"\"\n",
    "       super(CNN, self).__init__()\n",
    "\n",
    "       # 1st convolutional layer\n",
    "       self.conv1 = nn.Conv2d(in_channels=in_channels, out_channels=8, kernel_size=3, padding=1)\n",
    "       # Max pooling layer\n",
    "       self.pool = nn.MaxPool2d(kernel_size=2, stride=2)\n",
    "       # 2nd convolutional layer\n",
    "       self.conv2 = nn.Conv2d(in_channels=8, out_channels=16, kernel_size=3, padding=1)\n",
    "       # Fully connected layer\n",
    "       self.fc1 = nn.Linear(16 * 7 * 7, num_classes)\n",
    "\n",
    "   def forward(self, x):\n",
    "       \"\"\"\n",
    "       Define the forward pass of the neural network.\n",
    "\n",
    "       Parameters:\n",
    "           x: Input tensor.\n",
    "\n",
    "       Returns:\n",
    "           torch.Tensor\n",
    "               The output tensor after passing through the network.\n",
    "       \"\"\"\n",
    "       x = F.relu(self.conv1(x))  # Apply first convolution and ReLU activation\n",
    "       x = self.pool(x)           # Apply max pooling\n",
    "       x = F.relu(self.conv2(x))  # Apply second convolution and ReLU activation\n",
    "       x = self.pool(x)           # Apply max pooling\n",
    "       x = x.reshape(x.shape[0], -1)  # Flatten the tensor\n",
    "       x = self.fc1(x)            # Apply fully connected layer\n",
    "       return x\n",
    "       x = x.reshape(x.shape[0], -1)  # Flatten the tensor\n",
    "       x = self.fc1(x)            # Apply fully connected layer\n",
    "       return x"
   ]
  },
  {
   "cell_type": "code",
   "execution_count": 70,
   "id": "731a62d7",
   "metadata": {},
   "outputs": [
    {
     "name": "stdout",
     "output_type": "stream",
     "text": [
      "CNN(\n",
      "  (conv1): Conv2d(1, 8, kernel_size=(3, 3), stride=(1, 1), padding=(1, 1))\n",
      "  (pool): MaxPool2d(kernel_size=2, stride=2, padding=0, dilation=1, ceil_mode=False)\n",
      "  (conv2): Conv2d(8, 16, kernel_size=(3, 3), stride=(1, 1), padding=(1, 1))\n",
      "  (fc1): Linear(in_features=784, out_features=10, bias=True)\n",
      ")\n"
     ]
    }
   ],
   "source": [
    "device = \"cuda\" if torch.cuda.is_available() else \"cpu\"\n",
    "\n",
    "model = CNN(in_channels=1, num_classes=10).to(device)\n",
    "print(model)"
   ]
  },
  {
   "cell_type": "code",
   "execution_count": 71,
   "id": "224e8f42",
   "metadata": {},
   "outputs": [],
   "source": [
    "# Define the loss function\n",
    "criterion = nn.CrossEntropyLoss()\n",
    "\n",
    "# Define the optimizer\n",
    "optimizer = optim.Adam(model.parameters(), lr=0.001)"
   ]
  },
  {
   "cell_type": "code",
   "execution_count": 72,
   "id": "f7e8355a",
   "metadata": {},
   "outputs": [
    {
     "name": "stdout",
     "output_type": "stream",
     "text": [
      "Epoch [1/10]\n"
     ]
    },
    {
     "name": "stderr",
     "output_type": "stream",
     "text": [
      "100%|██████████| 15/15 [00:02<00:00,  5.35it/s]\n"
     ]
    },
    {
     "name": "stdout",
     "output_type": "stream",
     "text": [
      "Epoch [2/10]\n"
     ]
    },
    {
     "name": "stderr",
     "output_type": "stream",
     "text": [
      "100%|██████████| 15/15 [00:02<00:00,  5.87it/s]\n"
     ]
    },
    {
     "name": "stdout",
     "output_type": "stream",
     "text": [
      "Epoch [3/10]\n"
     ]
    },
    {
     "name": "stderr",
     "output_type": "stream",
     "text": [
      "100%|██████████| 15/15 [00:02<00:00,  5.86it/s]\n"
     ]
    },
    {
     "name": "stdout",
     "output_type": "stream",
     "text": [
      "Epoch [4/10]\n"
     ]
    },
    {
     "name": "stderr",
     "output_type": "stream",
     "text": [
      "100%|██████████| 15/15 [00:02<00:00,  5.76it/s]\n"
     ]
    },
    {
     "name": "stdout",
     "output_type": "stream",
     "text": [
      "Epoch [5/10]\n"
     ]
    },
    {
     "name": "stderr",
     "output_type": "stream",
     "text": [
      "100%|██████████| 15/15 [00:02<00:00,  5.76it/s]\n"
     ]
    },
    {
     "name": "stdout",
     "output_type": "stream",
     "text": [
      "Epoch [6/10]\n"
     ]
    },
    {
     "name": "stderr",
     "output_type": "stream",
     "text": [
      "100%|██████████| 15/15 [00:04<00:00,  3.28it/s]\n"
     ]
    },
    {
     "name": "stdout",
     "output_type": "stream",
     "text": [
      "Epoch [7/10]\n"
     ]
    },
    {
     "name": "stderr",
     "output_type": "stream",
     "text": [
      "100%|██████████| 15/15 [00:04<00:00,  3.11it/s]\n"
     ]
    },
    {
     "name": "stdout",
     "output_type": "stream",
     "text": [
      "Epoch [8/10]\n"
     ]
    },
    {
     "name": "stderr",
     "output_type": "stream",
     "text": [
      "100%|██████████| 15/15 [00:02<00:00,  5.86it/s]\n"
     ]
    },
    {
     "name": "stdout",
     "output_type": "stream",
     "text": [
      "Epoch [9/10]\n"
     ]
    },
    {
     "name": "stderr",
     "output_type": "stream",
     "text": [
      "100%|██████████| 15/15 [00:02<00:00,  5.88it/s]\n"
     ]
    },
    {
     "name": "stdout",
     "output_type": "stream",
     "text": [
      "Epoch [10/10]\n"
     ]
    },
    {
     "name": "stderr",
     "output_type": "stream",
     "text": [
      "100%|██████████| 15/15 [00:02<00:00,  5.91it/s]\n"
     ]
    }
   ],
   "source": [
    "num_epochs=10\n",
    "for epoch in range(num_epochs):\n",
    " # Iterate over training batches\n",
    "   print(f\"Epoch [{epoch + 1}/{num_epochs}]\")\n",
    "\n",
    "   for batch_index, (data, targets) in enumerate(tqdm(train_loader)):\n",
    "       data = data.to(device)\n",
    "       targets = targets.to(device)\n",
    "       scores = model(data)\n",
    "       loss = criterion(scores, targets)\n",
    "       optimizer.zero_grad()\n",
    "       loss.backward()\n",
    "       optimizer.step()"
   ]
  },
  {
   "cell_type": "code",
   "execution_count": null,
   "id": "4f3440f5",
   "metadata": {},
   "outputs": [
    {
     "name": "stdout",
     "output_type": "stream",
     "text": [
      "Test accuracy: 0.9401000142097473\n"
     ]
    },
    {
     "ename": "",
     "evalue": "",
     "output_type": "error",
     "traceback": [
      "\u001b[1;31mThe Kernel crashed while executing code in the current cell or a previous cell. \n",
      "\u001b[1;31mPlease review the code in the cell(s) to identify a possible cause of the failure. \n",
      "\u001b[1;31mClick <a href='https://aka.ms/vscodeJupyterKernelCrash'>here</a> for more info. \n",
      "\u001b[1;31mView Jupyter <a href='command:jupyter.viewOutput'>log</a> for further details."
     ]
    }
   ],
   "source": [
    "from torchmetrics import Accuracy, Precision, Recall\n",
    "\n",
    "# Set up of multiclass accuracy metric\n",
    "acc = Accuracy(task=\"multiclass\", num_classes=10).to(device)\n",
    "prec = Precision(task=\"multiclass\", num_classes=10).to(device)\n",
    "rec = Recall(task=\"multiclass\", num_classes=10).to(device)\n",
    "\n",
    "# Iterate over the dataset batches\n",
    "model.eval()\n",
    "with torch.no_grad():\n",
    "   for images, labels in test_loader:\n",
    "       images, labels = images.to(device), labels.to(device)\n",
    "       # Get predicted probabilities for test data batch\n",
    "       outputs = model(images)\n",
    "       _, preds = torch.max(outputs, 1)\n",
    "       acc(preds, labels)\n",
    "       prec(preds, labels)\n",
    "       rec(preds, labels)\n",
    "\n",
    "#Compute total test accuracy\n",
    "test_accuracy = acc.compute()\n",
    "print(f\"Test accuracy: {test_accuracy}\")\n",
    "\n",
    "# >>> Test accuracy: 0.9857000112533569\n",
    "# Batch 60:     0.9879000186920166      40s      \n",
    "# Batch 1024:   0.9768000245094299      32s\n",
    "# Batch 2048:   0.9638000130653381      26s"
   ]
  }
 ],
 "metadata": {
  "kernelspec": {
   "display_name": "c861m",
   "language": "python",
   "name": "python3"
  },
  "language_info": {
   "codemirror_mode": {
    "name": "ipython",
    "version": 3
   },
   "file_extension": ".py",
   "mimetype": "text/x-python",
   "name": "python",
   "nbconvert_exporter": "python",
   "pygments_lexer": "ipython3",
   "version": "3.11.13"
  }
 },
 "nbformat": 4,
 "nbformat_minor": 5
}
