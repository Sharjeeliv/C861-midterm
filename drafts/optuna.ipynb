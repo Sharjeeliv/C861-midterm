{
 "cells": [
  {
   "cell_type": "code",
   "execution_count": 6,
   "id": "b9a9f592",
   "metadata": {},
   "outputs": [],
   "source": [
    "import optuna\n",
    "\n",
    "from optuna.trial import Trial\n",
    "\n",
    "from sklearn.datasets import load_iris\n",
    "from sklearn.svm import SVC\n",
    "from sklearn.tree import DecisionTreeClassifier\n",
    "from sklearn.model_selection import cross_val_score"
   ]
  },
  {
   "cell_type": "code",
   "execution_count": 11,
   "id": "8b53c4c4",
   "metadata": {},
   "outputs": [],
   "source": [
    "models = {\n",
    "    \"SVC\": SVC,\n",
    "    \"DecisionTree\": DecisionTreeClassifier,\n",
    "}\n",
    "\n",
    "params = {\n",
    "    \"SVC\": {\n",
    "        'C': ['log', 1e-10, 1e10],\n",
    "        'gamma': ['log', 1e-10, 1e1],\n",
    "    },\n",
    "    \"DecisionTree\": {\n",
    "        'max_depth': ['int', 1, 20],\n",
    "        'min_samples_split': ['int', 2, 10],\n",
    "    },\n",
    "}"
   ]
  },
  {
   "cell_type": "code",
   "execution_count": 15,
   "id": "a5368a6a",
   "metadata": {},
   "outputs": [],
   "source": [
    "def trial_type(trial: Trial, name: str, config: dict):\n",
    "    TYPE, START, END = 0, 1, 2\n",
    "    ptype = config[TYPE]\n",
    "    if ptype == 'log':     return trial.suggest_float(name, config[START], config[END], log=True)\n",
    "    if ptype == 'int':     return trial.suggest_int(name, config[START], config[END])\n",
    "    if ptype == 'flt':     return trial.suggest_float(name, config[START], config[END])\n",
    "    if ptype == 'cat':     return trial.suggest_categorical(name, config[START:])\n",
    "    raise ValueError(f\"Unknown trial type: {trial_type}\")\n",
    "\n",
    "def get_trial_params(trial: Trial, model_name: str):\n",
    "    model_params = {}\n",
    "    for param_name, param_range in params[model_name].items():\n",
    "        suggest_fn = trial_type(trial, param_name, param_range)\n",
    "        model_params[param_name] = suggest_fn\n",
    "    return model_params"
   ]
  },
  {
   "cell_type": "code",
   "execution_count": 16,
   "id": "26f310bc",
   "metadata": {},
   "outputs": [
    {
     "name": "stderr",
     "output_type": "stream",
     "text": [
      "[I 2025-10-23 19:57:22,443] A new study created in memory with name: no-name-80b395d0-bac3-4425-9168-31bc6d92ff8b\n",
      "[I 2025-10-23 19:57:22,461] Trial 0 finished with value: 0.32 and parameters: {'C': 7.506572389991047e-10, 'gamma': 1.8074410723618524e-09}. Best is trial 0 with value: 0.32.\n",
      "[I 2025-10-23 19:57:22,488] Trial 1 finished with value: 0.32 and parameters: {'C': 1.1540080767307265e-08, 'gamma': 9.603977853815309}. Best is trial 0 with value: 0.32.\n",
      "[I 2025-10-23 19:57:22,502] Trial 2 finished with value: 0.32 and parameters: {'C': 0.00015634730893542928, 'gamma': 0.269873023214578}. Best is trial 0 with value: 0.32.\n",
      "[I 2025-10-23 19:57:22,512] Trial 3 finished with value: 0.9666666666666667 and parameters: {'C': 427070365.31741804, 'gamma': 1.9975003137319836}. Best is trial 3 with value: 0.9666666666666667.\n",
      "[I 2025-10-23 19:57:22,524] Trial 4 finished with value: 0.9866666666666667 and parameters: {'C': 222360.6191643117, 'gamma': 4.042949338272375e-06}. Best is trial 4 with value: 0.9866666666666667.\n",
      "[I 2025-10-23 19:57:22,537] Trial 5 finished with value: 0.32 and parameters: {'C': 7.030526611501538e-09, 'gamma': 1.0543423306089943e-06}. Best is trial 4 with value: 0.9866666666666667.\n",
      "[I 2025-10-23 19:57:22,547] Trial 6 finished with value: 0.32 and parameters: {'C': 0.006474315469553707, 'gamma': 2.5498312015627174}. Best is trial 4 with value: 0.9866666666666667.\n",
      "[I 2025-10-23 19:57:22,563] Trial 7 finished with value: 0.41333333333333333 and parameters: {'C': 30325.396759161456, 'gamma': 1.7026823714222043e-08}. Best is trial 4 with value: 0.9866666666666667.\n",
      "[I 2025-10-23 19:57:22,577] Trial 8 finished with value: 0.32 and parameters: {'C': 2.73461156517647e-10, 'gamma': 3.507204620993381e-09}. Best is trial 4 with value: 0.9866666666666667.\n",
      "[I 2025-10-23 19:57:22,593] Trial 9 finished with value: 0.32 and parameters: {'C': 2.0051462479706154e-10, 'gamma': 0.018568485235364654}. Best is trial 4 with value: 0.9866666666666667.\n",
      "[I 2025-10-23 19:57:22,607] Trial 10 finished with value: 0.9666666666666667 and parameters: {'C': 3857.8711405063914, 'gamma': 0.00035266808524425165}. Best is trial 4 with value: 0.9866666666666667.\n",
      "[I 2025-10-23 19:57:22,624] Trial 11 finished with value: 0.98 and parameters: {'C': 3676164405.9429536, 'gamma': 1.2187858759715757e-05}. Best is trial 4 with value: 0.9866666666666667.\n",
      "[I 2025-10-23 19:57:22,644] Trial 12 finished with value: 0.96 and parameters: {'C': 8969302544.451279, 'gamma': 5.363712350058725e-06}. Best is trial 4 with value: 0.9866666666666667.\n",
      "[I 2025-10-23 19:57:22,664] Trial 13 finished with value: 0.9666666666666667 and parameters: {'C': 1129937.2837481447, 'gamma': 0.0004997136294344893}. Best is trial 4 with value: 0.9866666666666667.\n",
      "[I 2025-10-23 19:57:22,689] Trial 14 finished with value: 0.32 and parameters: {'C': 53.50859234535961, 'gamma': 3.9649522638989676e-07}. Best is trial 4 with value: 0.9866666666666667.\n",
      "[I 2025-10-23 19:57:22,726] Trial 15 finished with value: 0.96 and parameters: {'C': 55286068.08022421, 'gamma': 0.000265746002857069}. Best is trial 4 with value: 0.9866666666666667.\n",
      "[I 2025-10-23 19:57:22,745] Trial 16 finished with value: 0.9666666666666667 and parameters: {'C': 2754923.804417863, 'gamma': 1.0788195615809503e-05}. Best is trial 4 with value: 0.9866666666666667.\n",
      "[I 2025-10-23 19:57:22,776] Trial 17 finished with value: 0.32 and parameters: {'C': 24.55457010886286, 'gamma': 1.3040206078745698e-07}. Best is trial 4 with value: 0.9866666666666667.\n",
      "[I 2025-10-23 19:57:22,801] Trial 18 finished with value: 0.9666666666666667 and parameters: {'C': 35954.375858579224, 'gamma': 0.0068850503968884355}. Best is trial 4 with value: 0.9866666666666667.\n",
      "[I 2025-10-23 19:57:22,826] Trial 19 finished with value: 0.9 and parameters: {'C': 6847140444.136638, 'gamma': 1.803027455977266e-10}. Best is trial 4 with value: 0.9866666666666667.\n",
      "[I 2025-10-23 19:57:22,827] A new study created in memory with name: no-name-b27926a3-1fc3-4f5a-bdac-39d05e98fb2c\n",
      "[I 2025-10-23 19:57:22,844] Trial 0 finished with value: 0.9666666666666667 and parameters: {'max_depth': 17, 'min_samples_split': 5}. Best is trial 0 with value: 0.9666666666666667.\n",
      "[I 2025-10-23 19:57:22,858] Trial 1 finished with value: 0.9666666666666667 and parameters: {'max_depth': 13, 'min_samples_split': 6}. Best is trial 0 with value: 0.9666666666666667.\n",
      "[I 2025-10-23 19:57:22,871] Trial 2 finished with value: 0.9333333333333332 and parameters: {'max_depth': 2, 'min_samples_split': 6}. Best is trial 0 with value: 0.9666666666666667.\n",
      "[I 2025-10-23 19:57:22,881] Trial 3 finished with value: 0.9733333333333333 and parameters: {'max_depth': 7, 'min_samples_split': 3}. Best is trial 3 with value: 0.9733333333333333.\n",
      "[I 2025-10-23 19:57:22,895] Trial 4 finished with value: 0.9666666666666667 and parameters: {'max_depth': 13, 'min_samples_split': 6}. Best is trial 3 with value: 0.9733333333333333.\n",
      "[I 2025-10-23 19:57:22,908] Trial 5 finished with value: 0.9666666666666667 and parameters: {'max_depth': 5, 'min_samples_split': 6}. Best is trial 3 with value: 0.9733333333333333.\n",
      "[I 2025-10-23 19:57:22,917] Trial 6 finished with value: 0.66 and parameters: {'max_depth': 1, 'min_samples_split': 10}. Best is trial 3 with value: 0.9733333333333333.\n",
      "[I 2025-10-23 19:57:22,927] Trial 7 finished with value: 0.9666666666666667 and parameters: {'max_depth': 9, 'min_samples_split': 7}. Best is trial 3 with value: 0.9733333333333333.\n",
      "[I 2025-10-23 19:57:22,938] Trial 8 finished with value: 0.9666666666666667 and parameters: {'max_depth': 17, 'min_samples_split': 2}. Best is trial 3 with value: 0.9733333333333333.\n",
      "[I 2025-10-23 19:57:22,946] Trial 9 finished with value: 0.9733333333333333 and parameters: {'max_depth': 3, 'min_samples_split': 7}. Best is trial 3 with value: 0.9733333333333333.\n",
      "[I 2025-10-23 19:57:22,961] Trial 10 finished with value: 0.96 and parameters: {'max_depth': 8, 'min_samples_split': 2}. Best is trial 3 with value: 0.9733333333333333.\n",
      "[I 2025-10-23 19:57:22,975] Trial 11 finished with value: 0.9666666666666667 and parameters: {'max_depth': 5, 'min_samples_split': 9}. Best is trial 3 with value: 0.9733333333333333.\n",
      "[I 2025-10-23 19:57:22,989] Trial 12 finished with value: 0.9733333333333333 and parameters: {'max_depth': 5, 'min_samples_split': 4}. Best is trial 3 with value: 0.9733333333333333.\n",
      "[I 2025-10-23 19:57:23,003] Trial 13 finished with value: 0.9666666666666667 and parameters: {'max_depth': 7, 'min_samples_split': 8}. Best is trial 3 with value: 0.9733333333333333.\n",
      "[I 2025-10-23 19:57:23,014] Trial 14 finished with value: 0.9733333333333333 and parameters: {'max_depth': 12, 'min_samples_split': 4}. Best is trial 3 with value: 0.9733333333333333.\n"
     ]
    },
    {
     "name": "stdout",
     "output_type": "stream",
     "text": [
      "Best params for SVC: {'C': 222360.6191643117, 'gamma': 4.042949338272375e-06}\n"
     ]
    },
    {
     "name": "stderr",
     "output_type": "stream",
     "text": [
      "[I 2025-10-23 19:57:23,030] Trial 15 finished with value: 0.9733333333333333 and parameters: {'max_depth': 3, 'min_samples_split': 3}. Best is trial 3 with value: 0.9733333333333333.\n",
      "[I 2025-10-23 19:57:23,043] Trial 16 finished with value: 0.9666666666666667 and parameters: {'max_depth': 10, 'min_samples_split': 8}. Best is trial 3 with value: 0.9733333333333333.\n",
      "[I 2025-10-23 19:57:23,058] Trial 17 finished with value: 0.9666666666666667 and parameters: {'max_depth': 4, 'min_samples_split': 4}. Best is trial 3 with value: 0.9733333333333333.\n",
      "[I 2025-10-23 19:57:23,072] Trial 18 finished with value: 0.9666666666666667 and parameters: {'max_depth': 7, 'min_samples_split': 8}. Best is trial 3 with value: 0.9733333333333333.\n",
      "[I 2025-10-23 19:57:23,084] Trial 19 finished with value: 0.9666666666666667 and parameters: {'max_depth': 15, 'min_samples_split': 5}. Best is trial 3 with value: 0.9733333333333333.\n"
     ]
    },
    {
     "name": "stdout",
     "output_type": "stream",
     "text": [
      "Best params for DecisionTree: {'max_depth': 7, 'min_samples_split': 3}\n"
     ]
    }
   ],
   "source": [
    "iris = load_iris()\n",
    "X, y = iris.data, iris.target\n",
    "\n",
    "\n",
    "from sklearn.model_selection import cross_val_score\n",
    "\n",
    "def objective(trial: Trial, model_name: str, X, y):\n",
    "    model_cls = models[model_name]\n",
    "    trial_params = get_trial_params(trial, model_name)\n",
    "\n",
    "    # Instantiate model with trial params\n",
    "    model = model_cls(**trial_params)\n",
    "    \n",
    "    # Evaluate using cross-validation\n",
    "    score = cross_val_score(model, X, y, cv=3, scoring='accuracy').mean()\n",
    "    return score\n",
    "\n",
    "for model_name in models.keys():\n",
    "    study = optuna.create_study(direction='maximize')\n",
    "    study.optimize(lambda trial: objective(trial, model_name, X, y), n_trials=20)\n",
    "    print(f\"Best params for {model_name}: {study.best_params}\")\n"
   ]
  }
 ],
 "metadata": {
  "kernelspec": {
   "display_name": "c861m",
   "language": "python",
   "name": "python3"
  },
  "language_info": {
   "codemirror_mode": {
    "name": "ipython",
    "version": 3
   },
   "file_extension": ".py",
   "mimetype": "text/x-python",
   "name": "python",
   "nbconvert_exporter": "python",
   "pygments_lexer": "ipython3",
   "version": "3.11.13"
  }
 },
 "nbformat": 4,
 "nbformat_minor": 5
}
